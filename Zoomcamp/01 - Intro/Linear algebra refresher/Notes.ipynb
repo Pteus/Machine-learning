{
 "cells": [
  {
   "cell_type": "code",
   "execution_count": 2,
   "id": "1c182b33",
   "metadata": {},
   "outputs": [],
   "source": [
    "import numpy as np"
   ]
  },
  {
   "cell_type": "markdown",
   "id": "3e42d0ca",
   "metadata": {},
   "source": [
    "# Vector operations"
   ]
  },
  {
   "cell_type": "code",
   "execution_count": 3,
   "id": "018967d3",
   "metadata": {},
   "outputs": [
    {
     "data": {
      "text/plain": [
       "array([ 6,  8, 16, 12])"
      ]
     },
     "execution_count": 3,
     "metadata": {},
     "output_type": "execute_result"
    }
   ],
   "source": [
    "u = np.array([2, 7, 5, 6])\n",
    "v = np.array([3, 4, 8, 6])"
   ]
  },
  {
   "cell_type": "code",
   "execution_count": 4,
   "id": "33cbfc47",
   "metadata": {},
   "outputs": [
    {
     "data": {
      "text/plain": [
       "array([ 5, 11, 13, 12])"
      ]
     },
     "execution_count": 4,
     "metadata": {},
     "output_type": "execute_result"
    }
   ],
   "source": [
    "# addition \n",
    "u + v"
   ]
  },
  {
   "cell_type": "code",
   "execution_count": 5,
   "id": "2a0e580e",
   "metadata": {},
   "outputs": [
    {
     "data": {
      "text/plain": [
       "array([-1,  3, -3,  0])"
      ]
     },
     "execution_count": 5,
     "metadata": {},
     "output_type": "execute_result"
    }
   ],
   "source": [
    "# subtraction \n",
    "u - v"
   ]
  },
  {
   "cell_type": "code",
   "execution_count": 6,
   "id": "bb1a2f97",
   "metadata": {},
   "outputs": [
    {
     "data": {
      "text/plain": [
       "array([ 6,  8, 16, 12])"
      ]
     },
     "execution_count": 6,
     "metadata": {},
     "output_type": "execute_result"
    }
   ],
   "source": [
    "# scalar multiplication \n",
    "2 * v"
   ]
  },
  {
   "cell_type": "markdown",
   "id": "d575d317",
   "metadata": {},
   "source": [
    "# Multiplication"
   ]
  },
  {
   "cell_type": "markdown",
   "id": "96f57687",
   "metadata": {},
   "source": [
    "## vector-vector multiplication"
   ]
  },
  {
   "cell_type": "code",
   "execution_count": 11,
   "id": "e01b6e59",
   "metadata": {},
   "outputs": [],
   "source": [
    "# dot product\n",
    "# NOTE: numpy already as a function for this\n",
    "def vector_vector_multiplication(u,v):\n",
    "    assert u.shape[0] == v.shape[0]\n",
    "    \n",
    "    n = u.shape[0]\n",
    "    \n",
    "    result = 0.0\n",
    "    for i in range(n):\n",
    "        result = result + u[i] * v[i] \n",
    "    \n",
    "    return result"
   ]
  },
  {
   "cell_type": "code",
   "execution_count": 8,
   "id": "c49e75c3",
   "metadata": {},
   "outputs": [
    {
     "data": {
      "text/plain": [
       "110.0"
      ]
     },
     "execution_count": 8,
     "metadata": {},
     "output_type": "execute_result"
    }
   ],
   "source": [
    "vector_vector_multiplication(u,v)"
   ]
  },
  {
   "cell_type": "code",
   "execution_count": 10,
   "id": "4add177d",
   "metadata": {},
   "outputs": [
    {
     "data": {
      "text/plain": [
       "110"
      ]
     },
     "execution_count": 10,
     "metadata": {},
     "output_type": "execute_result"
    }
   ],
   "source": [
    "# built-in numpy function\n",
    "u.dot(v)"
   ]
  },
  {
   "cell_type": "markdown",
   "id": "6cc03e3e",
   "metadata": {},
   "source": [
    "## matrix-vector multiplication"
   ]
  },
  {
   "cell_type": "code",
   "execution_count": 12,
   "id": "a1815d27",
   "metadata": {},
   "outputs": [],
   "source": [
    "U = np.array([\n",
    "    [2, 4, 5, 6],\n",
    "    [1, 2, 1, 2],\n",
    "    [3, 1, 2, 1],\n",
    "])"
   ]
  },
  {
   "cell_type": "code",
   "execution_count": 13,
   "id": "504963f7",
   "metadata": {},
   "outputs": [],
   "source": [
    "def matrix_vector_multiplication(U, v):\n",
    "    assert U.shape[1] == v.shape[0]\n",
    "    \n",
    "    num_rows = U.shape[0]\n",
    "    \n",
    "    result = np.zeros(num_rows)\n",
    "    \n",
    "    for i in range(num_rows):\n",
    "        result[i] = vector_vector_multiplication(U[i], v)\n",
    "    \n",
    "    return result"
   ]
  },
  {
   "cell_type": "code",
   "execution_count": 14,
   "id": "e5439c7c",
   "metadata": {},
   "outputs": [
    {
     "data": {
      "text/plain": [
       "array([98., 31., 35.])"
      ]
     },
     "execution_count": 14,
     "metadata": {},
     "output_type": "execute_result"
    }
   ],
   "source": [
    "matrix_vector_multiplication(U, v)"
   ]
  },
  {
   "cell_type": "code",
   "execution_count": 15,
   "id": "2e77e8d7",
   "metadata": {},
   "outputs": [
    {
     "data": {
      "text/plain": [
       "array([98, 31, 35])"
      ]
     },
     "execution_count": 15,
     "metadata": {},
     "output_type": "execute_result"
    }
   ],
   "source": [
    "U.dot(v)"
   ]
  },
  {
   "cell_type": "markdown",
   "id": "7748cbe7",
   "metadata": {},
   "source": [
    "## matrix-matrix multiplication"
   ]
  },
  {
   "cell_type": "code",
   "execution_count": 16,
   "id": "75ca7b16",
   "metadata": {},
   "outputs": [],
   "source": [
    "V = np.array([\n",
    "    [1, 1, 2],\n",
    "    [0, 0.5, 1], \n",
    "    [0, 2, 1],\n",
    "    [2, 1, 0],\n",
    "])"
   ]
  },
  {
   "cell_type": "code",
   "execution_count": 17,
   "id": "a25e29d1",
   "metadata": {},
   "outputs": [],
   "source": [
    "def matrix_matrix_multiplication(U,V):\n",
    "    assert U.shape[1] == V.shape[0]\n",
    "    \n",
    "    num_rows = U.shape[0]\n",
    "    num_cols = V.shape[1]\n",
    "    \n",
    "    result = np.zeros((num_rows, num_cols))\n",
    "    \n",
    "    for i in range(num_cols):\n",
    "        vi = V[:,i]\n",
    "        Uvi = matrix_vector_multiplication(U, vi)\n",
    "        result[:, i] = Uvi\n",
    "    \n",
    "    return result"
   ]
  },
  {
   "cell_type": "code",
   "execution_count": 18,
   "id": "38081f70",
   "metadata": {},
   "outputs": [
    {
     "data": {
      "text/plain": [
       "array([[14. , 20. , 13. ],\n",
       "       [ 5. ,  6. ,  5. ],\n",
       "       [ 5. ,  8.5,  9. ]])"
      ]
     },
     "execution_count": 18,
     "metadata": {},
     "output_type": "execute_result"
    }
   ],
   "source": [
    "matrix_matrix_multiplication(U,V)"
   ]
  },
  {
   "cell_type": "code",
   "execution_count": 19,
   "id": "1b2e4311",
   "metadata": {},
   "outputs": [
    {
     "data": {
      "text/plain": [
       "array([[14. , 20. , 13. ],\n",
       "       [ 5. ,  6. ,  5. ],\n",
       "       [ 5. ,  8.5,  9. ]])"
      ]
     },
     "execution_count": 19,
     "metadata": {},
     "output_type": "execute_result"
    }
   ],
   "source": [
    "U.dot(V)"
   ]
  },
  {
   "cell_type": "markdown",
   "id": "150fe8be",
   "metadata": {},
   "source": [
    "# Identity Matrix"
   ]
  },
  {
   "cell_type": "code",
   "execution_count": 22,
   "id": "f3be4b9b",
   "metadata": {},
   "outputs": [
    {
     "data": {
      "text/plain": [
       "array([[1., 0., 0.],\n",
       "       [0., 1., 0.],\n",
       "       [0., 0., 1.]])"
      ]
     },
     "execution_count": 22,
     "metadata": {},
     "output_type": "execute_result"
    }
   ],
   "source": [
    "I = np.eye(3)\n",
    "I"
   ]
  },
  {
   "cell_type": "code",
   "execution_count": 23,
   "id": "46be1c29",
   "metadata": {},
   "outputs": [
    {
     "data": {
      "text/plain": [
       "array([[1. , 1. , 2. ],\n",
       "       [0. , 0.5, 1. ],\n",
       "       [0. , 2. , 1. ],\n",
       "       [2. , 1. , 0. ]])"
      ]
     },
     "execution_count": 23,
     "metadata": {},
     "output_type": "execute_result"
    }
   ],
   "source": [
    "V"
   ]
  },
  {
   "cell_type": "code",
   "execution_count": 24,
   "id": "42aa7dbb",
   "metadata": {},
   "outputs": [
    {
     "data": {
      "text/plain": [
       "array([[1. , 1. , 2. ],\n",
       "       [0. , 0.5, 1. ],\n",
       "       [0. , 2. , 1. ],\n",
       "       [2. , 1. , 0. ]])"
      ]
     },
     "execution_count": 24,
     "metadata": {},
     "output_type": "execute_result"
    }
   ],
   "source": [
    "V.dot(I)"
   ]
  },
  {
   "cell_type": "markdown",
   "id": "f6cf00da",
   "metadata": {},
   "source": [
    "# Matrix inverse"
   ]
  },
  {
   "cell_type": "code",
   "execution_count": 25,
   "id": "352ebbda",
   "metadata": {},
   "outputs": [
    {
     "data": {
      "text/plain": [
       "array([[1. , 1. , 2. ],\n",
       "       [0. , 0.5, 1. ],\n",
       "       [0. , 2. , 1. ],\n",
       "       [2. , 1. , 0. ]])"
      ]
     },
     "execution_count": 25,
     "metadata": {},
     "output_type": "execute_result"
    }
   ],
   "source": [
    "V"
   ]
  },
  {
   "cell_type": "code",
   "execution_count": 28,
   "id": "b0333046",
   "metadata": {},
   "outputs": [
    {
     "data": {
      "text/plain": [
       "array([[1. , 1. , 2. ],\n",
       "       [0. , 0.5, 1. ],\n",
       "       [0. , 2. , 1. ]])"
      ]
     },
     "execution_count": 28,
     "metadata": {},
     "output_type": "execute_result"
    }
   ],
   "source": [
    "Vs = V[[0,1,2]]\n",
    "Vs"
   ]
  },
  {
   "cell_type": "code",
   "execution_count": 30,
   "id": "da9a73ee",
   "metadata": {},
   "outputs": [
    {
     "data": {
      "text/plain": [
       "array([[ 1.        , -2.        ,  0.        ],\n",
       "       [ 0.        , -0.66666667,  0.66666667],\n",
       "       [ 0.        ,  1.33333333, -0.33333333]])"
      ]
     },
     "execution_count": 30,
     "metadata": {},
     "output_type": "execute_result"
    }
   ],
   "source": [
    "Vs_inv = np.linalg.inv(Vs)\n",
    "Vs_inv"
   ]
  },
  {
   "cell_type": "code",
   "execution_count": 32,
   "id": "89a7c2f3",
   "metadata": {},
   "outputs": [
    {
     "data": {
      "text/plain": [
       "array([[1., 0., 0.],\n",
       "       [0., 1., 0.],\n",
       "       [0., 0., 1.]])"
      ]
     },
     "execution_count": 32,
     "metadata": {},
     "output_type": "execute_result"
    }
   ],
   "source": [
    "Vs_inv.dot(Vs)"
   ]
  },
  {
   "cell_type": "code",
   "execution_count": null,
   "id": "372ed4bb",
   "metadata": {},
   "outputs": [],
   "source": []
  }
 ],
 "metadata": {
  "kernelspec": {
   "display_name": "Python 3 (ipykernel)",
   "language": "python",
   "name": "python3"
  },
  "language_info": {
   "codemirror_mode": {
    "name": "ipython",
    "version": 3
   },
   "file_extension": ".py",
   "mimetype": "text/x-python",
   "name": "python",
   "nbconvert_exporter": "python",
   "pygments_lexer": "ipython3",
   "version": "3.9.12"
  }
 },
 "nbformat": 4,
 "nbformat_minor": 5
}
