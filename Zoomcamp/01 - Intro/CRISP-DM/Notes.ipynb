{
 "cells": [
  {
   "cell_type": "markdown",
   "id": "e8f88618",
   "metadata": {},
   "source": [
    "# CRISP-DM"
   ]
  },
  {
   "cell_type": "markdown",
   "id": "a78c8c70",
   "metadata": {},
   "source": [
    "Cross-industry standard process for data mining. Methodologies like CRISP-DM help us to organize the ML project in a way that is manageable (what needs to happen in which order)."
   ]
  },
  {
   "cell_type": "markdown",
   "id": "63cc1b97",
   "metadata": {},
   "source": [
    "### CRISP-DM Process\n",
    "\n",
    "CRISP-DM is an iterative process with 6 steps:\n",
    "\n",
    "1. **Business Understanding**\n",
    "   - Identify the business problem\n",
    "   - Determine available data sources\n",
    "   - Specify requirements, assumptions, and conditions\n",
    "   - Clarify risks and uncertainties\n",
    "   - Assess the importance of the problem\n",
    "   - Understand potential solutions\n",
    "   - Define success metrics for the project (Cost-Benefit Analysis)\n",
    "   - Evaluate if machine learning is the appropriate solution\n",
    "\n",
    "2. **Data Understanding**\n",
    "   - Analyze available data sources\n",
    "   - Collect and examine data\n",
    "   - Identify any missing or incomplete data\n",
    "   - Assess the quality, reliability, and sufficiency of the data\n",
    "   - Determine if additional data is needed\n",
    "\n",
    "3. **Data Preparation (Feature Engineering)**\n",
    "   - Transform the data to make it suitable for a machine learning algorithm\n",
    "   - Typically involves extracting relevant features\n",
    "   - Clean the data by removing noise and inconsistencies\n",
    "   - Build data pipelines to transform raw data into clean data\n",
    "   - Convert data into a tabular form suitable for machine learning models\n",
    "\n",
    "4. **Modeling**\n",
    "   - Train the machine learning model\n",
    "   - Experiment with different models (e.g., Logistic Regression, Decision Trees, Neural Networks)\n",
    "   - Select appropriate model parameters\n",
    "   - Optimize the model's performance\n",
    "   - Select the best performing model\n",
    "   - Iterate on data preparation if necessary (e.g., add new features, address data issues)\n",
    "   - Remember: model quality depends heavily on data quality (Garbage In, Garbage Out!)\n",
    "\n",
    "5. **Evaluation**\n",
    "   - Assess how well the model solves the business problem\n",
    "   - Determine if the model meets the desired performance\n",
    "   - Evaluate if the project goals are achieved\n",
    "   - Analyze improvement metrics\n",
    "     - Example goal: Reduce spam by 50%\n",
    "     - Measure the actual reduction\n",
    "     - Evaluate performance on a test set\n",
    "   - Conduct a retrospective analysis:\n",
    "     - Was the goal realistic?\n",
    "     - Did we measure the right outcomes?\n",
    "   - Based on the evaluation, decide on the next steps:\n",
    "     - Adjust the goal if necessary\n",
    "     - Deploy the model to more users or all users\n",
    "     - Conclude the project if objectives are met\n",
    "\n",
    "6. **Evaluation and Deployment (Often Concurrent)**\n",
    "   - Perform online evaluation with live users\n",
    "     - Deploy the model and assess its performance\n",
    "   - Deployment (Engineering Practices)\n",
    "     - After initial evaluation, deploy the model to production for all users\n",
    "     - Ensure proper monitoring for performance and reliability\n",
    "     - Maintain quality and scalability\n",
    "   - Include final reporting and documentation as in project management\n",
    "\n",
    "### Iteration!\n",
    "- Machine learning projects require multiple iterations.\n",
    "- Post-deployment, revisit the business understanding to identify further improvements or enhancements for the model.\n",
    "\n",
    "### General Advice\n",
    "- Start with a simple model\n",
    "- Learn from feedback and results\n",
    "- Gradually enhance the model complexity based on insights and feedback\n"
   ]
  }
 ],
 "metadata": {
  "kernelspec": {
   "display_name": "Python 3 (ipykernel)",
   "language": "python",
   "name": "python3"
  },
  "language_info": {
   "codemirror_mode": {
    "name": "ipython",
    "version": 3
   },
   "file_extension": ".py",
   "mimetype": "text/x-python",
   "name": "python",
   "nbconvert_exporter": "python",
   "pygments_lexer": "ipython3",
   "version": "3.9.12"
  }
 },
 "nbformat": 4,
 "nbformat_minor": 5
}
