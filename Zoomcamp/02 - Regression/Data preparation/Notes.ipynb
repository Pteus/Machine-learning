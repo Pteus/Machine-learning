{
 "cells": [
  {
   "cell_type": "markdown",
   "id": "9a4600f8",
   "metadata": {},
   "source": [
    "1. **Import the data to pandas**\n",
    "    ```python\n",
    "    df = pd.read_csv('data.csv')\n",
    "    ```\n",
    "\n",
    "2. **Normalize the column names**\n",
    "    - We normalize the column names by making all letters lowercase and replacing spaces with underscores (`_`).\n",
    "    ```python\n",
    "    df.columns = df.columns.str.lower().str.replace(' ', '_')\n",
    "    ```\n",
    "\n",
    "3. **Normalize the dataset values**\n",
    "    - We normalize the dataset values by making all text lowercase and replacing spaces with underscores (`_`).\n",
    "    ```python\n",
    "    strings = list(df.dtypes[df.dtypes == 'object'].index)\n",
    "    for col in strings:\n",
    "        df[col] = df[col].str.lower().str.replace(' ', '_')\n",
    "    ```\n"
   ]
  },
  {
   "cell_type": "code",
   "execution_count": null,
   "id": "7a9a3f0e",
   "metadata": {},
   "outputs": [],
   "source": []
  }
 ],
 "metadata": {
  "kernelspec": {
   "display_name": "Python 3 (ipykernel)",
   "language": "python",
   "name": "python3"
  },
  "language_info": {
   "codemirror_mode": {
    "name": "ipython",
    "version": 3
   },
   "file_extension": ".py",
   "mimetype": "text/x-python",
   "name": "python",
   "nbconvert_exporter": "python",
   "pygments_lexer": "ipython3",
   "version": "3.9.12"
  }
 },
 "nbformat": 4,
 "nbformat_minor": 5
}
