{
 "cells": [
  {
   "cell_type": "markdown",
   "id": "aa2925e2",
   "metadata": {},
   "source": [
    "We know that we need to multiply the feature matrix $ X $ with the weights vector $ w $ to obtain $ y $, which represents the predictions for prices:\n",
    "\n",
    "$ Xw \\approx y $\n",
    "\n",
    "Ideally, we want $ Xw $ to equal $ y $, but often achieving exact equality is not possible. To find the weights $ w $ that approximate $ y $, we use:\n",
    "\n",
    "$ Xw = y $\n",
    "\n",
    "This equation can be rewritten as $ X^{-1}Xw = X^{-1}y $, which simplifies to $ Iw = X^{-1}y $, where $ I $ is the identity matrix.\n",
    "\n",
    "However, $ X^{-1} $ only exists for square matrices, and $ X $ is of dimension $ m \\times (n+1) $, which is not square in most cases. Therefore, we need an alternative approach.\n",
    "\n",
    "An approximation is found using $ X^TXw = X^Ty $. Here, $ X^TX $ is known as the Gram matrix, which is square ($ (n+1) \\times (n+1) $) and its inverse exists:\n",
    "\n",
    "$ (X^TX)^{-1}X^TXw = (X^TX)^{-1}X^Ty $\n",
    "\n",
    "$ Iw = (X^TX)^{-1}X^Ty $\n",
    "\n",
    "Thus, the closest solution for $ w $ is:\n",
    "\n",
    "$ w = (X^TX)^{-1}X^Ty $\n",
    "\n",
    "This method provides an effective way to compute the weights $ w $ in linear regression, minimizing the difference between the predicted values $ Xw $ and the actual values $ y $.\n"
   ]
  },
  {
   "cell_type": "code",
   "execution_count": null,
   "id": "3df8318c",
   "metadata": {},
   "outputs": [],
   "source": []
  }
 ],
 "metadata": {
  "kernelspec": {
   "display_name": "Python 3 (ipykernel)",
   "language": "python",
   "name": "python3"
  },
  "language_info": {
   "codemirror_mode": {
    "name": "ipython",
    "version": 3
   },
   "file_extension": ".py",
   "mimetype": "text/x-python",
   "name": "python",
   "nbconvert_exporter": "python",
   "pygments_lexer": "ipython3",
   "version": "3.9.12"
  }
 },
 "nbformat": 4,
 "nbformat_minor": 5
}
