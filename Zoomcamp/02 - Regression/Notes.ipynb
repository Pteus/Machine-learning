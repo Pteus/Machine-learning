{
 "cells": [
  {
   "cell_type": "markdown",
   "id": "9d12b1ca",
   "metadata": {},
   "source": [
    "## Project Plan\n",
    "\n",
    "- Prepare data and Exploratory Data Analysis (EDA)\n",
    "- Use Linear Regression for Predicting Price\n",
    "- Understanding the Internals of Linear Regression\n",
    "- Evaluating the Model with RMSE\n",
    "- Feature Engineering\n",
    "- Regularization\n",
    "- Using the Model\n"
   ]
  },
  {
   "cell_type": "code",
   "execution_count": null,
   "id": "13e84c98",
   "metadata": {},
   "outputs": [],
   "source": []
  }
 ],
 "metadata": {
  "kernelspec": {
   "display_name": "Python 3 (ipykernel)",
   "language": "python",
   "name": "python3"
  },
  "language_info": {
   "codemirror_mode": {
    "name": "ipython",
    "version": 3
   },
   "file_extension": ".py",
   "mimetype": "text/x-python",
   "name": "python",
   "nbconvert_exporter": "python",
   "pygments_lexer": "ipython3",
   "version": "3.9.12"
  }
 },
 "nbformat": 4,
 "nbformat_minor": 5
}
