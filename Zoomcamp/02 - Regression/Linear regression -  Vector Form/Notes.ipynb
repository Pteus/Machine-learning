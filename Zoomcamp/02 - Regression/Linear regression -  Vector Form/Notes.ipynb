{
 "cells": [
  {
   "cell_type": "markdown",
   "id": "564934ca",
   "metadata": {},
   "source": [
    "# Improving Our Linear Regression Formula\n",
    "\n",
    "Previously, we had the formula for our linear regression as follows:\n",
    "\n",
    "$ g(x_i) = w_0 + \\sum w_j \\cdot w_{ij} $\n",
    "\n",
    "This formula was only considering one observation. By looking at the last part of this formula, we see the dot product (vector-vector multiplication):\n",
    "\n",
    "$ g(x_i) = w_0 + x_i^T w $\n",
    "\n",
    "Let's implement the dot product (vector-vector multiplication) again:\n",
    "\n",
    "```python\n",
    "def dot(xi, w):\n",
    "    n = len(xi)\n",
    "    res = 0.0\n",
    "    for j in range(n):\n",
    "        res = res + xi[j] * w[j]\n",
    "    return res\n",
    "```\n",
    "Based on that, the implementation of the `linear_regression` function could look like:\n",
    "\n",
    "```python\n",
    "def linear_regression(xi):\n",
    "    return w0 + dot(xi, w)\n",
    "```\n",
    "\n",
    "To make the last equation more simple, we can imagine there is one more feature $ x_{i0} $ that is always equal to 1.\n",
    "\n",
    "$ g(x_i) = w_0 + x_i^T w \\rightarrow g(x_i) = w_0 x_{i0} + x_i^T w $\n",
    "\n",
    "That means the vector \\( w \\) becomes an \\( n+1 \\) dimensional vector:\n",
    "\n",
    "$ w = [w_0, w_1, w_2, \\ldots, w_n] $\n",
    "\n",
    "$ x_i = [x_{i0}, x_{i1}, x_{i2}, \\ldots, x_{in}] = [1, x_{i1}, x_{i2}, \\ldots, x_{in}] $\n",
    "\n",
    "$ w^T x_i = x_i^T w = w_0 + \\ldots $\n",
    "\n",
    "Having done this, let’s go back to thinking about all the examples together.\n",
    "\n",
    "$X$ is an $m \\times (n+1)$ dimensional matrix (with $m$ rows and  $n+1$ columns)."
   ]
  },
  {
   "cell_type": "code",
   "execution_count": null,
   "id": "2efe4a19",
   "metadata": {},
   "outputs": [],
   "source": []
  }
 ],
 "metadata": {
  "kernelspec": {
   "display_name": "Python 3 (ipykernel)",
   "language": "python",
   "name": "python3"
  },
  "language_info": {
   "codemirror_mode": {
    "name": "ipython",
    "version": 3
   },
   "file_extension": ".py",
   "mimetype": "text/x-python",
   "name": "python",
   "nbconvert_exporter": "python",
   "pygments_lexer": "ipython3",
   "version": "3.9.12"
  }
 },
 "nbformat": 4,
 "nbformat_minor": 5
}
