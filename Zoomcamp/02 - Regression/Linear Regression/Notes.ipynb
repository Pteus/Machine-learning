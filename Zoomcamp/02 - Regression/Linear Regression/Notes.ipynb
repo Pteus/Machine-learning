{
 "cells": [
  {
   "cell_type": "markdown",
   "id": "f19fee8a",
   "metadata": {},
   "source": [
    "## Linear Regression Example\n",
    "\n",
    "### Linear Regression Formula\n",
    "\n",
    "$ g(x_i) = w_0 + \\sum w_j \\cdot w_{ij} $\n",
    "\n",
    "Linear regression is a powerful tool for predicting numerical values based on input features. By finding the best-fitting linear equation, it enables us to make accurate predictions and gain insights into the relationship between variables.\n",
    "\n",
    "Let's start with a simple form of linear regression, using only one observation (or one row of the feature matrix).\n",
    "\n",
    "We take as an example the characteristics `engine_hp`, `city_mpg`, and `popularity`:\n",
    "\n",
    "$ x_i = [138, 24, 1385] $\n",
    "\n",
    "We’ve just implemented the formula as mentioned before with the given values:\n",
    "\n",
    "$ 7.17 + 138 \\cdot 0.01 + 24 \\cdot 0.04 + 1385 \\cdot 0.002 = 12.28 $\n",
    "\n",
    "- $ w_0 = 7.17 $ : bias term - the prediction of a car's price if we don’t know anything about it\n",
    "- `engine_hp`: $ 138 \\cdot 0.01 $ - for every 100 hp, the price will increase by `$`1\n",
    "- `city_mpg`: $ 24 \\cdot 0.04 $ - similar to hp, the higher the mpg, the higher the price\n",
    "- `popularity`: $ 1385 \\cdot 0.002 $ - although it affects the price, each extra mention on website only slightly increases the car's price\n",
    "\n",
    "There is still one important step to do. Because we applied a logarithmic transformation (log(y+1)) to the price at the beginning, we now have to undo that transformation to get the predicted price in dollars. Our car has a predicted price of `$`215,344.72.\n"
   ]
  },
  {
   "cell_type": "code",
   "execution_count": null,
   "id": "e606242c",
   "metadata": {},
   "outputs": [],
   "source": []
  }
 ],
 "metadata": {
  "kernelspec": {
   "display_name": "Python 3 (ipykernel)",
   "language": "python",
   "name": "python3"
  },
  "language_info": {
   "codemirror_mode": {
    "name": "ipython",
    "version": 3
   },
   "file_extension": ".py",
   "mimetype": "text/x-python",
   "name": "python",
   "nbconvert_exporter": "python",
   "pygments_lexer": "ipython3",
   "version": "3.9.12"
  }
 },
 "nbformat": 4,
 "nbformat_minor": 5
}
