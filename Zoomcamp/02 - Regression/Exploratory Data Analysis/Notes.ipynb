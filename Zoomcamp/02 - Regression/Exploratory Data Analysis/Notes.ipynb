{
 "cells": [
  {
   "cell_type": "markdown",
   "id": "47d00c0e",
   "metadata": {},
   "source": [
    "## Exploratory Data Analysis\n",
    "\n",
    "- **Return unique values in series**\n",
    "    ```python\n",
    "    for col in df.columns:\n",
    "    print(col)\n",
    "    print(df[col].unique()[:5])\n",
    "    print(df[col].nunique())\n",
    "    print()\n",
    "    ```\n",
    "\n",
    "- **Visualize the dataset (plots)**\n",
    "    ```python\n",
    "    sns.histplot(df.msrp[df.msrp < 100_000], bins=50)\n",
    "    ```\n",
    "  - We can see that we have a long tail distribution. This is not good for machine learning models because:\n",
    "      - Long tail distributions can cause models to be biased towards the more frequent values, leading to poor generalization.\n",
    "      - To mitigate this issue, we apply a logarithm scale, which can help in normalizing the distribution. Applying a logarithm transformation compresses the range of values and reduces the skewness, making the distribution more normal-like. This can improve the performance and stability of many machine learning algorithms.\n",
    "    ```python\n",
    "    price_logs = np.log1p(df.msrp)\n",
    "    sns.histplot(price_logs, bins=50)\n",
    "    ```\n",
    "\n",
    "- **Check for null values**\n",
    "    ```python\n",
    "    df.isnull().sum()\n",
    "    ```\n"
   ]
  },
  {
   "cell_type": "code",
   "execution_count": null,
   "id": "6a9b11bb",
   "metadata": {},
   "outputs": [],
   "source": []
  }
 ],
 "metadata": {
  "kernelspec": {
   "display_name": "Python 3 (ipykernel)",
   "language": "python",
   "name": "python3"
  },
  "language_info": {
   "codemirror_mode": {
    "name": "ipython",
    "version": 3
   },
   "file_extension": ".py",
   "mimetype": "text/x-python",
   "name": "python",
   "nbconvert_exporter": "python",
   "pygments_lexer": "ipython3",
   "version": "3.9.12"
  }
 },
 "nbformat": 4,
 "nbformat_minor": 5
}
