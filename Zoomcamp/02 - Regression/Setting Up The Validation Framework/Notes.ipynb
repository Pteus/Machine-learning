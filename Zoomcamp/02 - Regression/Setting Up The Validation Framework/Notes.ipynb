{
 "cells": [
  {
   "cell_type": "markdown",
   "id": "128e36e9",
   "metadata": {},
   "source": [
    "- We split the dataset into three parts: train, validation, and test sets with a ratio of 60%-20%-20%\n",
    "    ```python\n",
    "    n_val = int(n * 0.2)\n",
    "    n_test = int(n * 0.2)\n",
    "    n_train = n - n_val - n_test\n",
    "    ```\n",
    "\n",
    "- Create the new data frames\n",
    "    ```python\n",
    "    idx = np.arange(n)\n",
    "    np.random.seed(2)\n",
    "    np.random.shuffle(idx)\n",
    "\n",
    "    df_train = df.iloc[idx[:n_train]]\n",
    "    df_val = df.iloc[idx[n_train: n_train + n_val]]\n",
    "    df_test = df.iloc[idx[n_train + n_val:]]\n",
    "    ```\n",
    "\n",
    "- Reset the index on the new data frames\n",
    "    ```python\n",
    "    df_train = df_train.reset_index(drop=True)\n",
    "    df_val = df_val.reset_index(drop=True)\n",
    "    df_test = df_test.reset_index(drop=True)\n",
    "    ```\n",
    "\n",
    "- Apply logarithm on MSRP and assign it to `y_train`, `y_val`, and `y_test`\n",
    "    ```python\n",
    "    y_train = np.log1p(df_train.msrp.values)\n",
    "    y_val = np.log1p(df_val.msrp.values)\n",
    "    y_test = np.log1p(df_test.msrp.values)\n",
    "    ```\n",
    "\n",
    "- Remove MSRP from the datasets\n",
    "    ```python\n",
    "    del df_train['msrp']\n",
    "    del df_val['msrp']\n",
    "    del df_test['msrp']\n",
    "    ```\n"
   ]
  },
  {
   "cell_type": "code",
   "execution_count": null,
   "id": "bba4ea5b",
   "metadata": {},
   "outputs": [],
   "source": []
  }
 ],
 "metadata": {
  "kernelspec": {
   "display_name": "Python 3 (ipykernel)",
   "language": "python",
   "name": "python3"
  },
  "language_info": {
   "codemirror_mode": {
    "name": "ipython",
    "version": 3
   },
   "file_extension": ".py",
   "mimetype": "text/x-python",
   "name": "python",
   "nbconvert_exporter": "python",
   "pygments_lexer": "ipython3",
   "version": "3.9.12"
  }
 },
 "nbformat": 4,
 "nbformat_minor": 5
}
